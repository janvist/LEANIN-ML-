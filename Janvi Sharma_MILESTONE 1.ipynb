{
 "cells": [
  {
   "cell_type": "code",
   "execution_count": 1,
   "id": "e29c6e52",
   "metadata": {},
   "outputs": [
    {
     "name": "stdout",
     "output_type": "stream",
     "text": [
      "1\n",
      "153\n",
      "370\n",
      "371\n",
      "407\n"
     ]
    }
   ],
   "source": [
    "# ARMSTRONG NUMBER\n",
    "for num in range(1,500):\n",
    "  temp=num\n",
    "  sum=0\n",
    "  while temp>0:\n",
    "    digit=temp%10\n",
    "    sum=sum+digit**3\n",
    "    temp=temp//10\n",
    "\n",
    "  if sum==num:\n",
    "    print (num)"
   ]
  },
  {
   "cell_type": "code",
   "execution_count": 2,
   "id": "128d0db9",
   "metadata": {},
   "outputs": [
    {
     "name": "stdout",
     "output_type": "stream",
     "text": [
      "Enter String :hello\n",
      "VOWELS:  2\n",
      "CONSTANTS:  3\n"
     ]
    }
   ],
   "source": [
    "# COUNT VOWELS AND CONSTANTS\n",
    "str= input(\"Enter String :\")\n",
    "vowels=0\n",
    "const=0\n",
    "\n",
    "for i in str:\n",
    "     if(i == 'a' or i == 'e' or i == 'i' or i == 'o' or i == 'u'\n",
    "       or i == 'A' or i == 'E' or i == 'I' or i == 'O' or i == 'U'):\n",
    "        vowels = vowels + 1\n",
    "        \n",
    "     else:\n",
    "       const= const + 1\n",
    "        \n",
    "print(\"VOWELS: \", vowels)\n",
    "print(\"CONSTANTS: \", const)"
   ]
  },
  {
   "cell_type": "code",
   "execution_count": 3,
   "id": "f28b1dd3",
   "metadata": {},
   "outputs": [
    {
     "name": "stdout",
     "output_type": "stream",
     "text": [
      "176\n"
     ]
    }
   ],
   "source": [
    "# diagonal sum of the transpose\n",
    "import numpy as np\n",
    "\n",
    "array = np.array([[55 ,25,15],\n",
    "                 [30,44,2],\n",
    "                 [11,45, 77]])\n",
    "\n",
    "d1=0;\n",
    "array.T\n",
    "for i in range(len(array)):\n",
    "    for j in range(len(array[i])):\n",
    "            if i==j:\n",
    "              d1= d1+ array[i][j]\n",
    "print(d1)\n"
   ]
  },
  {
   "cell_type": "code",
   "execution_count": 4,
   "id": "3ff66b18",
   "metadata": {},
   "outputs": [
    {
     "name": "stdout",
     "output_type": "stream",
     "text": [
      "the sum of series is:  8.5\n"
     ]
    }
   ],
   "source": [
    "# SUM OF SERIES\n",
    "def sum_of_Series(n):\n",
    "    s=0\n",
    "    for i in range(2,n-1):\n",
    "          s+= i*i / (i-1)       \n",
    "  \n",
    "    \n",
    "    return s\n",
    "\n",
    "n=5\n",
    "print(\"the sum of series is: \", sum_of_Series(n))"
   ]
  },
  {
   "cell_type": "code",
   "execution_count": 5,
   "id": "599b84c0",
   "metadata": {},
   "outputs": [
    {
     "name": "stdout",
     "output_type": "stream",
     "text": [
      "enter string :MAM\n",
      "The string is:  MAM\n",
      "the string is a PALINDROME\n"
     ]
    }
   ],
   "source": [
    "# PALINDROME\n",
    "def palindrome (string):\n",
    "    if(len(string)<1):\n",
    "        return True\n",
    "    else :\n",
    "        if(string[0]==string[-1]):\n",
    "            return palindrome(string[1:-1])\n",
    "        else:\n",
    "            return False\n",
    "    \n",
    "my_str= input(\"enter string :\")\n",
    "print(\"The string is: \",my_str)\n",
    "\n",
    "if(palindrome(my_str)==True):\n",
    "    print(\"the string is a PALINDROME\")\n",
    "else:\n",
    "    print(\"the string is NOT PALINDROME\")\n",
    "        "
   ]
  },
  {
   "cell_type": "code",
   "execution_count": null,
   "id": "06a27404",
   "metadata": {},
   "outputs": [],
   "source": []
  }
 ],
 "metadata": {
  "kernelspec": {
   "display_name": "Python 3",
   "language": "python",
   "name": "python3"
  },
  "language_info": {
   "codemirror_mode": {
    "name": "ipython",
    "version": 3
   },
   "file_extension": ".py",
   "mimetype": "text/x-python",
   "name": "python",
   "nbconvert_exporter": "python",
   "pygments_lexer": "ipython3",
   "version": "3.8.8"
  }
 },
 "nbformat": 4,
 "nbformat_minor": 5
}
